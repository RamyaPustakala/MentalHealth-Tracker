{
 "cells": [
  {
   "cell_type": "code",
   "execution_count": null,
   "id": "0c3401f0",
   "metadata": {
    "execution": {
     "iopub.execute_input": "2023-07-18T14:53:17.553475Z",
     "iopub.status.busy": "2023-07-18T14:53:17.553091Z",
     "iopub.status.idle": "2023-07-18T14:53:19.548452Z",
     "shell.execute_reply": "2023-07-18T14:53:19.547595Z"
    },
    "papermill": {
     "duration": 2.051619,
     "end_time": "2023-07-18T14:53:19.551214",
     "exception": false,
     "start_time": "2023-07-18T14:53:17.499595",
     "status": "completed"
    },
    "tags": []
   },
   "outputs": [],
   "source": [
    "#! pip install matplotlib\n",
    "#! pip install seaborn\n",
    "#! pip install tensorflow"
   ]
  },
  {
   "cell_type": "code",
   "execution_count": null,
   "id": "8c3a6dd7",
   "metadata": {},
   "outputs": [],
   "source": [
    "import pandas as pd\n",
    "import numpy as np\n",
    "import re\n",
    "import matplotlib.pyplot as plt \n",
    "import seaborn as sns\n",
    "import warnings\n",
    "warnings.filterwarnings('ignore')\n",
    "import tensorflow as tf\n",
    "from tensorflow.keras.models import Sequential, load_model\n",
    "from tensorflow.keras.layers import Conv1D, MaxPooling1D, Flatten, Dense, Dropout\n",
    "from sklearn.preprocessing import LabelEncoder\n",
    "from sklearn.model_selection import train_test_split\n",
    "from sklearn.utils.class_weight import compute_class_weight"
   ]
  },
  {
   "cell_type": "code",
   "execution_count": null,
   "id": "fe6f5296",
   "metadata": {
    "execution": {
     "iopub.execute_input": "2023-07-18T14:53:19.654690Z",
     "iopub.status.busy": "2023-07-18T14:53:19.654248Z",
     "iopub.status.idle": "2023-07-18T14:53:20.802320Z",
     "shell.execute_reply": "2023-07-18T14:53:20.801225Z"
    },
    "papermill": {
     "duration": 1.203105,
     "end_time": "2023-07-18T14:53:20.805064",
     "exception": false,
     "start_time": "2023-07-18T14:53:19.601959",
     "status": "completed"
    },
    "tags": []
   },
   "outputs": [],
   "source": [
    "dataset = pd.read_csv(\"data.csv\", delimiter='\\t')"
   ]
  },
  {
   "cell_type": "code",
   "execution_count": null,
   "id": "93559dc0",
   "metadata": {
    "execution": {
     "iopub.execute_input": "2023-07-18T14:53:20.910658Z",
     "iopub.status.busy": "2023-07-18T14:53:20.909369Z",
     "iopub.status.idle": "2023-07-18T14:53:20.944043Z",
     "shell.execute_reply": "2023-07-18T14:53:20.942890Z"
    },
    "papermill": {
     "duration": 0.090946,
     "end_time": "2023-07-18T14:53:20.946758",
     "exception": false,
     "start_time": "2023-07-18T14:53:20.855812",
     "status": "completed"
    },
    "tags": []
   },
   "outputs": [],
   "source": [
    "dataset.head(10)"
   ]
  },
  {
   "cell_type": "code",
   "execution_count": null,
   "id": "e4b7f20a",
   "metadata": {
    "execution": {
     "iopub.execute_input": "2023-07-18T14:53:21.051815Z",
     "iopub.status.busy": "2023-07-18T14:53:21.051379Z",
     "iopub.status.idle": "2023-07-18T14:53:21.080564Z",
     "shell.execute_reply": "2023-07-18T14:53:21.079174Z"
    },
    "papermill": {
     "duration": 0.084811,
     "end_time": "2023-07-18T14:53:21.083012",
     "exception": false,
     "start_time": "2023-07-18T14:53:20.998201",
     "status": "completed"
    },
    "tags": []
   },
   "outputs": [],
   "source": [
    "dataset.info()"
   ]
  },
  {
   "cell_type": "code",
   "execution_count": null,
   "id": "6acfbe19",
   "metadata": {
    "execution": {
     "iopub.execute_input": "2023-07-18T14:53:21.189574Z",
     "iopub.status.busy": "2023-07-18T14:53:21.188406Z",
     "iopub.status.idle": "2023-07-18T14:53:21.372684Z",
     "shell.execute_reply": "2023-07-18T14:53:21.371414Z"
    },
    "papermill": {
     "duration": 0.240152,
     "end_time": "2023-07-18T14:53:21.375320",
     "exception": false,
     "start_time": "2023-07-18T14:53:21.135168",
     "status": "completed"
    },
    "tags": []
   },
   "outputs": [],
   "source": [
    "# Check for duplicates on each row.\n",
    "dataset.duplicated().value_counts()"
   ]
  },
  {
   "cell_type": "code",
   "execution_count": null,
   "id": "b57075b2",
   "metadata": {
    "execution": {
     "iopub.execute_input": "2023-07-18T14:53:21.481285Z",
     "iopub.status.busy": "2023-07-18T14:53:21.480876Z",
     "iopub.status.idle": "2023-07-18T14:53:21.572704Z",
     "shell.execute_reply": "2023-07-18T14:53:21.571716Z"
    },
    "papermill": {
     "duration": 0.147574,
     "end_time": "2023-07-18T14:53:21.575146",
     "exception": false,
     "start_time": "2023-07-18T14:53:21.427572",
     "status": "completed"
    },
    "tags": []
   },
   "outputs": [],
   "source": [
    "# Check for unique values.\n",
    "dataset.nunique()"
   ]
  },
  {
   "cell_type": "code",
   "execution_count": null,
   "id": "397148d6",
   "metadata": {
    "execution": {
     "iopub.execute_input": "2023-07-18T14:53:21.681155Z",
     "iopub.status.busy": "2023-07-18T14:53:21.680767Z",
     "iopub.status.idle": "2023-07-18T14:53:21.686980Z",
     "shell.execute_reply": "2023-07-18T14:53:21.685710Z"
    },
    "papermill": {
     "duration": 0.062643,
     "end_time": "2023-07-18T14:53:21.689540",
     "exception": false,
     "start_time": "2023-07-18T14:53:21.626897",
     "status": "completed"
    },
    "tags": []
   },
   "outputs": [],
   "source": [
    "columns  = dataset.columns\n",
    "print('Attributes',columns)"
   ]
  },
  {
   "cell_type": "code",
   "execution_count": null,
   "id": "4218f4fa",
   "metadata": {
    "execution": {
     "iopub.execute_input": "2023-07-18T14:53:21.800190Z",
     "iopub.status.busy": "2023-07-18T14:53:21.799793Z",
     "iopub.status.idle": "2023-07-18T14:53:21.806882Z",
     "shell.execute_reply": "2023-07-18T14:53:21.805663Z"
    },
    "papermill": {
     "duration": 0.065048,
     "end_time": "2023-07-18T14:53:21.809422",
     "exception": false,
     "start_time": "2023-07-18T14:53:21.744374",
     "status": "completed"
    },
    "tags": []
   },
   "outputs": [],
   "source": [
    "for column in columns:\n",
    "    print(column)"
   ]
  },
  {
   "cell_type": "markdown",
   "id": "caff6ae1",
   "metadata": {
    "papermill": {
     "duration": 0.052334,
     "end_time": "2023-07-18T14:53:21.913726",
     "exception": false,
     "start_time": "2023-07-18T14:53:21.861392",
     "status": "completed"
    },
    "tags": []
   },
   "source": [
    "# **Data Preprocessing**"
   ]
  },
  {
   "cell_type": "code",
   "execution_count": null,
   "id": "0fe5ea4b",
   "metadata": {
    "execution": {
     "iopub.execute_input": "2023-07-18T14:53:22.019262Z",
     "iopub.status.busy": "2023-07-18T14:53:22.018834Z",
     "iopub.status.idle": "2023-07-18T14:53:22.029057Z",
     "shell.execute_reply": "2023-07-18T14:53:22.027852Z"
    },
    "papermill": {
     "duration": 0.065677,
     "end_time": "2023-07-18T14:53:22.031215",
     "exception": false,
     "start_time": "2023-07-18T14:53:21.965538",
     "status": "completed"
    },
    "tags": []
   },
   "outputs": [],
   "source": [
    "# Extract columns matching the pattern \"Q<number>A\"\n",
    "pattern = r'^Q\\d+A$'\n",
    "scale_column = [column for column in dataset.columns if re.match(pattern, column)]\n",
    "# Create a new DataFrame with the extracted columns\n",
    "extracted_data = dataset[scale_column]"
   ]
  },
  {
   "cell_type": "code",
   "execution_count": null,
   "id": "d3723078",
   "metadata": {
    "execution": {
     "iopub.execute_input": "2023-07-18T14:53:22.137866Z",
     "iopub.status.busy": "2023-07-18T14:53:22.137436Z",
     "iopub.status.idle": "2023-07-18T14:53:22.162902Z",
     "shell.execute_reply": "2023-07-18T14:53:22.161809Z"
    },
    "papermill": {
     "duration": 0.082266,
     "end_time": "2023-07-18T14:53:22.165321",
     "exception": false,
     "start_time": "2023-07-18T14:53:22.083055",
     "status": "completed"
    },
    "scrolled": false,
    "tags": []
   },
   "outputs": [],
   "source": [
    "extracted_data"
   ]
  },
  {
   "cell_type": "code",
   "execution_count": null,
   "id": "106ccddd",
   "metadata": {},
   "outputs": [],
   "source": [
    "#extracted_data.to_csv('mental_health_ex')"
   ]
  },
  {
   "cell_type": "code",
   "execution_count": null,
   "id": "ad7e0faf",
   "metadata": {
    "execution": {
     "iopub.execute_input": "2023-07-18T14:53:22.281747Z",
     "iopub.status.busy": "2023-07-18T14:53:22.281325Z",
     "iopub.status.idle": "2023-07-18T14:53:22.290600Z",
     "shell.execute_reply": "2023-07-18T14:53:22.289728Z"
    },
    "papermill": {
     "duration": 0.067038,
     "end_time": "2023-07-18T14:53:22.292662",
     "exception": false,
     "start_time": "2023-07-18T14:53:22.225624",
     "status": "completed"
    },
    "tags": []
   },
   "outputs": [],
   "source": [
    "#Check if theres any missing or empty item\n",
    "extracted_data.isnull().sum()"
   ]
  },
  {
   "cell_type": "code",
   "execution_count": null,
   "id": "2e3a9cc4",
   "metadata": {
    "execution": {
     "iopub.execute_input": "2023-07-18T14:53:22.400944Z",
     "iopub.status.busy": "2023-07-18T14:53:22.400542Z",
     "iopub.status.idle": "2023-07-18T14:53:22.417558Z",
     "shell.execute_reply": "2023-07-18T14:53:22.416596Z"
    },
    "papermill": {
     "duration": 0.073899,
     "end_time": "2023-07-18T14:53:22.420007",
     "exception": false,
     "start_time": "2023-07-18T14:53:22.346108",
     "status": "completed"
    },
    "tags": []
   },
   "outputs": [],
   "source": [
    "#Subtract 1 from all the response to change the scale from 1 to 4 to 0 to 3\n",
    "def sub(data):\n",
    "    return data.subtract(1,axis=1)\n",
    "regularized_dataset=sub(extracted_data) \n",
    "\n",
    "# Declare the question key to generate the dataset for each dataset\n",
    "DASS_keys = {'Depression': [3, 5, 10, 13, 16, 17, 21, 24, 26, 31, 34, 37, 38, 42],\n",
    "             'Anxiety': [2, 4, 7, 9, 15, 19, 20, 23, 25, 28, 30, 36, 40, 41],\n",
    "             'Stress': [1, 6, 8, 11, 12, 14, 18, 22, 27, 29, 32, 33, 35, 39]}\n",
    "Depression_keys = []\n",
    "for i in DASS_keys[\"Depression\"]:\n",
    "    Depression_keys.append('Q'+str(i)+'A')\n",
    "Stress_keys = []\n",
    "for i in DASS_keys[\"Stress\"]:\n",
    "    Stress_keys.append('Q'+str(i)+'A')\n",
    "Anxiety_keys = []\n",
    "for i in DASS_keys[\"Anxiety\"]:\n",
    "    Anxiety_keys.append('Q'+str(i)+'A')\n",
    "depression_dataset= regularized_dataset.filter(Depression_keys)\n",
    "stress_dataset = regularized_dataset.filter(Stress_keys)\n",
    "anxiety_dataset = regularized_dataset.filter(Anxiety_keys)"
   ]
  },
  {
   "cell_type": "code",
   "execution_count": null,
   "id": "f6fbd033",
   "metadata": {},
   "outputs": [],
   "source": [
    "#regularized_dataset.to_csv('regularized.csv')"
   ]
  },
  {
   "cell_type": "code",
   "execution_count": null,
   "id": "5c563fb1",
   "metadata": {
    "execution": {
     "iopub.execute_input": "2023-07-18T14:53:22.529706Z",
     "iopub.status.busy": "2023-07-18T14:53:22.529048Z",
     "iopub.status.idle": "2023-07-18T14:53:22.544779Z",
     "shell.execute_reply": "2023-07-18T14:53:22.543849Z"
    },
    "papermill": {
     "duration": 0.07381,
     "end_time": "2023-07-18T14:53:22.547538",
     "exception": false,
     "start_time": "2023-07-18T14:53:22.473728",
     "status": "completed"
    },
    "tags": []
   },
   "outputs": [],
   "source": [
    "#Obtain the total score for each dataset here\n",
    "def scores(data):\n",
    "    col=list(data)\n",
    "    data['Total_Count']=data[col].sum(axis=1)\n",
    "    return data\n",
    "depression_dataset=scores(depression_dataset)\n",
    "stress_dataset=scores(stress_dataset)\n",
    "anxiety_dataset=scores(anxiety_dataset)"
   ]
  },
  {
   "cell_type": "markdown",
   "id": "40ea86ce",
   "metadata": {
    "papermill": {
     "duration": 0.052422,
     "end_time": "2023-07-18T14:53:22.653168",
     "exception": false,
     "start_time": "2023-07-18T14:53:22.600746",
     "status": "completed"
    },
    "tags": []
   },
   "source": [
    "**Display the newly generated datasets**"
   ]
  },
  {
   "cell_type": "code",
   "execution_count": null,
   "id": "b4e4858c",
   "metadata": {
    "execution": {
     "iopub.execute_input": "2023-07-18T14:53:22.761198Z",
     "iopub.status.busy": "2023-07-18T14:53:22.760365Z",
     "iopub.status.idle": "2023-07-18T14:53:22.777361Z",
     "shell.execute_reply": "2023-07-18T14:53:22.776236Z"
    },
    "papermill": {
     "duration": 0.073644,
     "end_time": "2023-07-18T14:53:22.779603",
     "exception": false,
     "start_time": "2023-07-18T14:53:22.705959",
     "status": "completed"
    },
    "tags": []
   },
   "outputs": [],
   "source": [
    "depression_dataset.head(10)"
   ]
  },
  {
   "cell_type": "code",
   "execution_count": null,
   "id": "7715d88e",
   "metadata": {
    "execution": {
     "iopub.execute_input": "2023-07-18T14:53:22.893817Z",
     "iopub.status.busy": "2023-07-18T14:53:22.893123Z",
     "iopub.status.idle": "2023-07-18T14:53:22.910496Z",
     "shell.execute_reply": "2023-07-18T14:53:22.909361Z"
    },
    "papermill": {
     "duration": 0.079957,
     "end_time": "2023-07-18T14:53:22.913050",
     "exception": false,
     "start_time": "2023-07-18T14:53:22.833093",
     "status": "completed"
    },
    "tags": []
   },
   "outputs": [],
   "source": [
    "stress_dataset.head(10)"
   ]
  },
  {
   "cell_type": "code",
   "execution_count": null,
   "id": "dfa9c694",
   "metadata": {
    "execution": {
     "iopub.execute_input": "2023-07-18T14:53:23.024200Z",
     "iopub.status.busy": "2023-07-18T14:53:23.023522Z",
     "iopub.status.idle": "2023-07-18T14:53:23.040452Z",
     "shell.execute_reply": "2023-07-18T14:53:23.038965Z"
    },
    "papermill": {
     "duration": 0.075267,
     "end_time": "2023-07-18T14:53:23.043056",
     "exception": false,
     "start_time": "2023-07-18T14:53:22.967789",
     "status": "completed"
    },
    "tags": []
   },
   "outputs": [],
   "source": [
    "anxiety_dataset.head(10)"
   ]
  },
  {
   "cell_type": "markdown",
   "id": "1e41d9e2",
   "metadata": {
    "papermill": {
     "duration": 0.055032,
     "end_time": "2023-07-18T14:53:23.157231",
     "exception": false,
     "start_time": "2023-07-18T14:53:23.102199",
     "status": "completed"
    },
    "tags": []
   },
   "source": [
    "# **Depression Dataset**"
   ]
  },
  {
   "cell_type": "code",
   "execution_count": null,
   "id": "a5c4188c",
   "metadata": {
    "execution": {
     "iopub.execute_input": "2023-07-18T14:53:23.270214Z",
     "iopub.status.busy": "2023-07-18T14:53:23.269579Z",
     "iopub.status.idle": "2023-07-18T14:53:23.313425Z",
     "shell.execute_reply": "2023-07-18T14:53:23.312305Z"
    },
    "papermill": {
     "duration": 0.102124,
     "end_time": "2023-07-18T14:53:23.315927",
     "exception": false,
     "start_time": "2023-07-18T14:53:23.213803",
     "status": "completed"
    },
    "tags": []
   },
   "outputs": [],
   "source": [
    "#Declaring function to assign the label\n",
    "def condition(x):\n",
    "    if x<=9:\n",
    "        return 'Normal'\n",
    "    if  10<=x<=13:\n",
    "        return 'Mild'\n",
    "    if 14<=x<=20:\n",
    "        return 'Moderate'\n",
    "    if 21<=x<=27:\n",
    "        return 'Severe'\n",
    "    if x>=28:\n",
    "        return 'Extremely Severe'\n",
    "\n",
    "#Apply the condition and drop the \"Total_Count\" column\n",
    "depression_dataset['Label']=depression_dataset['Total_Count'].apply(condition)\n",
    "final_depression_dataset = depression_dataset.drop(columns=['Total_Count'])\n",
    "final_depression_dataset.head(10)"
   ]
  },
  {
   "cell_type": "code",
   "execution_count": null,
   "id": "5d57f457",
   "metadata": {
    "execution": {
     "iopub.execute_input": "2023-07-18T14:53:23.429803Z",
     "iopub.status.busy": "2023-07-18T14:53:23.429125Z",
     "iopub.status.idle": "2023-07-18T14:53:23.768262Z",
     "shell.execute_reply": "2023-07-18T14:53:23.767131Z"
    },
    "papermill": {
     "duration": 0.398767,
     "end_time": "2023-07-18T14:53:23.770580",
     "exception": false,
     "start_time": "2023-07-18T14:53:23.371813",
     "status": "completed"
    },
    "tags": []
   },
   "outputs": [],
   "source": [
    "# Define the desired label arrangement\n",
    "desired_labels = ['Extremely Severe', 'Severe', 'Moderate', 'Mild', 'Normal']\n",
    "\n",
    "# Count the frequency of each label\n",
    "label_counts = final_depression_dataset['Label'].value_counts()\n",
    "print(label_counts.reindex(desired_labels))\n",
    "\n",
    "# Define the colors for each bar\n",
    "colors = ['skyblue', 'green', 'yellow', 'orange', 'gray']\n",
    "\n",
    "# Reorder the label counts based on the desired arrangement\n",
    "label_counts_ordered = label_counts.reindex(desired_labels)\n",
    "\n",
    "# Plot the bar chart\n",
    "plt.bar(label_counts_ordered.index, label_counts_ordered.values, color=colors)\n",
    "\n",
    "# Plot the bar chart\n",
    "# plt.bar(label_counts.index, label_counts.values, color=colors)\n",
    "\n",
    "# Add labels and title\n",
    "plt.xlabel('Label')\n",
    "plt.ylabel('Frequency')\n",
    "plt.title('Depression Dataset Distribution of Labels')\n",
    "\n",
    "# Show the plot\n",
    "plt.show()"
   ]
  },
  {
   "cell_type": "markdown",
   "id": "cc69461f",
   "metadata": {
    "papermill": {
     "duration": 0.055867,
     "end_time": "2023-07-18T14:53:23.881689",
     "exception": false,
     "start_time": "2023-07-18T14:53:23.825822",
     "status": "completed"
    },
    "tags": []
   },
   "source": [
    "# **Stress Dataset**"
   ]
  },
  {
   "cell_type": "code",
   "execution_count": null,
   "id": "979b1dca",
   "metadata": {
    "execution": {
     "iopub.execute_input": "2023-07-18T14:53:23.995687Z",
     "iopub.status.busy": "2023-07-18T14:53:23.994996Z",
     "iopub.status.idle": "2023-07-18T14:53:24.039790Z",
     "shell.execute_reply": "2023-07-18T14:53:24.038601Z"
    },
    "papermill": {
     "duration": 0.104055,
     "end_time": "2023-07-18T14:53:24.042216",
     "exception": false,
     "start_time": "2023-07-18T14:53:23.938161",
     "status": "completed"
    },
    "tags": []
   },
   "outputs": [],
   "source": [
    "#Declaring function to assign the label\n",
    "def condition(x):\n",
    "    if x<=14:\n",
    "        return 'Normal'\n",
    "    if  15<=x<=18:\n",
    "        return 'Mild'\n",
    "    if 19<=x<=25:\n",
    "        return 'Moderate'\n",
    "    if 26<=x<=33:\n",
    "        return 'Severe'\n",
    "    if x>=34:\n",
    "        return 'Extremely Severe'\n",
    "\n",
    "#Apply the condition and drop the \"Total_Count\" column\n",
    "stress_dataset['Label']=stress_dataset['Total_Count'].apply(condition)\n",
    "final_stress_dataset = stress_dataset.drop(columns=['Total_Count'])\n",
    "final_stress_dataset.head(10)"
   ]
  },
  {
   "cell_type": "code",
   "execution_count": null,
   "id": "a26257f4",
   "metadata": {
    "execution": {
     "iopub.execute_input": "2023-07-18T14:53:24.155845Z",
     "iopub.status.busy": "2023-07-18T14:53:24.155412Z",
     "iopub.status.idle": "2023-07-18T14:53:24.438270Z",
     "shell.execute_reply": "2023-07-18T14:53:24.436951Z"
    },
    "papermill": {
     "duration": 0.342845,
     "end_time": "2023-07-18T14:53:24.440930",
     "exception": false,
     "start_time": "2023-07-18T14:53:24.098085",
     "status": "completed"
    },
    "tags": []
   },
   "outputs": [],
   "source": [
    "# Define the desired label arrangement\n",
    "desired_labels = ['Extremely Severe', 'Severe', 'Moderate', 'Mild', 'Normal']\n",
    "\n",
    "# Count the frequency of each label\n",
    "label_counts = final_stress_dataset['Label'].value_counts()\n",
    "print(label_counts.reindex(desired_labels))\n",
    "\n",
    "# Define the colors for each bar\n",
    "colors = ['skyblue', 'green', 'yellow', 'orange', 'gray']\n",
    "\n",
    "# Reorder the label counts based on the desired arrangement\n",
    "label_counts_ordered = label_counts.reindex(desired_labels)\n",
    "\n",
    "# Plot the bar chart\n",
    "plt.bar(label_counts_ordered.index, label_counts_ordered.values, color=colors)\n",
    "\n",
    "# Add labels and title\n",
    "plt.xlabel('Label')\n",
    "plt.ylabel('Frequency')\n",
    "plt.title('Stress Dataset Distribution of Labels')\n",
    "\n",
    "# Show the plot\n",
    "plt.show()"
   ]
  },
  {
   "cell_type": "markdown",
   "id": "7ed2e3b3",
   "metadata": {
    "papermill": {
     "duration": 0.056492,
     "end_time": "2023-07-18T14:53:24.555983",
     "exception": false,
     "start_time": "2023-07-18T14:53:24.499491",
     "status": "completed"
    },
    "tags": []
   },
   "source": [
    "# **Anxiety Dataset**"
   ]
  },
  {
   "cell_type": "code",
   "execution_count": null,
   "id": "c519edcb",
   "metadata": {
    "execution": {
     "iopub.execute_input": "2023-07-18T14:53:24.670694Z",
     "iopub.status.busy": "2023-07-18T14:53:24.669468Z",
     "iopub.status.idle": "2023-07-18T14:53:24.713680Z",
     "shell.execute_reply": "2023-07-18T14:53:24.712840Z"
    },
    "papermill": {
     "duration": 0.10369,
     "end_time": "2023-07-18T14:53:24.715863",
     "exception": false,
     "start_time": "2023-07-18T14:53:24.612173",
     "status": "completed"
    },
    "tags": []
   },
   "outputs": [],
   "source": [
    "#Declaring function to assign the label\n",
    "def condition(x):\n",
    "    if x<=7:\n",
    "        return 'Normal'\n",
    "    if  8<=x<=9:\n",
    "        return 'Mild'\n",
    "    if 10<=x<=14:\n",
    "        return 'Moderate'\n",
    "    if 15<=x<=19:\n",
    "        return 'Severe'\n",
    "    if x>19:\n",
    "        return 'Extremely Severe'\n",
    "\n",
    "#Apply the condition and drop the \"Total_Count\" column\n",
    "anxiety_dataset['Label']=anxiety_dataset['Total_Count'].apply(condition)\n",
    "final_anxiety_dataset = anxiety_dataset.drop(columns=['Total_Count'])\n",
    "final_anxiety_dataset.head(10)"
   ]
  },
  {
   "cell_type": "code",
   "execution_count": null,
   "id": "ab29de3a",
   "metadata": {
    "execution": {
     "iopub.execute_input": "2023-07-18T14:53:24.832679Z",
     "iopub.status.busy": "2023-07-18T14:53:24.832027Z",
     "iopub.status.idle": "2023-07-18T14:53:25.126372Z",
     "shell.execute_reply": "2023-07-18T14:53:25.125215Z"
    },
    "papermill": {
     "duration": 0.355119,
     "end_time": "2023-07-18T14:53:25.128924",
     "exception": false,
     "start_time": "2023-07-18T14:53:24.773805",
     "status": "completed"
    },
    "tags": []
   },
   "outputs": [],
   "source": [
    "# Define the desired label arrangement\n",
    "desired_labels = ['Extremely Severe', 'Severe', 'Moderate', 'Mild', 'Normal']\n",
    "\n",
    "# Count the frequency of each label\n",
    "label_counts = final_anxiety_dataset['Label'].value_counts()\n",
    "print(label_counts.reindex(desired_labels))\n",
    "\n",
    "# Define the colors for each bar\n",
    "colors = ['skyblue', 'green', 'yellow', 'orange', 'gray']\n",
    "\n",
    "# Reorder the label counts based on the desired arrangement\n",
    "label_counts_ordered = label_counts.reindex(desired_labels)\n",
    "\n",
    "# Plot the bar chart\n",
    "plt.bar(label_counts_ordered.index, label_counts_ordered.values, color=colors)\n",
    "\n",
    "# Add labels and title\n",
    "plt.xlabel('Label')\n",
    "plt.ylabel('Frequency')\n",
    "plt.title('Anxiety Dataset Distribution of Labels')\n",
    "\n",
    "# Show the plot\n",
    "plt.show()"
   ]
  },
  {
   "cell_type": "markdown",
   "id": "ab814547",
   "metadata": {
    "papermill": {
     "duration": 0.058155,
     "end_time": "2023-07-18T14:53:25.361592",
     "exception": false,
     "start_time": "2023-07-18T14:53:25.303437",
     "status": "completed"
    },
    "tags": []
   },
   "source": [
    "# **Depression Dataset**"
   ]
  },
  {
   "cell_type": "code",
   "execution_count": null,
   "id": "b489f0a2",
   "metadata": {
    "execution": {
     "iopub.execute_input": "2023-07-18T14:53:25.481393Z",
     "iopub.status.busy": "2023-07-18T14:53:25.480974Z",
     "iopub.status.idle": "2023-07-18T14:53:25.489800Z",
     "shell.execute_reply": "2023-07-18T14:53:25.488560Z"
    },
    "papermill": {
     "duration": 0.073157,
     "end_time": "2023-07-18T14:53:25.492066",
     "exception": false,
     "start_time": "2023-07-18T14:53:25.418909",
     "status": "completed"
    },
    "tags": []
   },
   "outputs": [],
   "source": [
    "#Seperate the data and labels\n",
    "depression_labels = final_depression_dataset[\"Label\"]\n",
    "depression_X = final_depression_dataset.drop(columns=[\"Label\"])"
   ]
  },
  {
   "cell_type": "code",
   "execution_count": null,
   "id": "7b01a5d6",
   "metadata": {
    "execution": {
     "iopub.execute_input": "2023-07-18T14:53:25.611328Z",
     "iopub.status.busy": "2023-07-18T14:53:25.610548Z",
     "iopub.status.idle": "2023-07-18T14:53:25.619187Z",
     "shell.execute_reply": "2023-07-18T14:53:25.618166Z"
    },
    "papermill": {
     "duration": 0.070789,
     "end_time": "2023-07-18T14:53:25.621457",
     "exception": false,
     "start_time": "2023-07-18T14:53:25.550668",
     "status": "completed"
    },
    "tags": []
   },
   "outputs": [],
   "source": [
    "depression_labels"
   ]
  },
  {
   "cell_type": "markdown",
   "id": "03ecb5e8",
   "metadata": {
    "papermill": {
     "duration": 0.062755,
     "end_time": "2023-07-18T14:53:27.231830",
     "exception": false,
     "start_time": "2023-07-18T14:53:27.169075",
     "status": "completed"
    },
    "tags": []
   },
   "source": [
    "# **Stress Dataset**"
   ]
  },
  {
   "cell_type": "code",
   "execution_count": null,
   "id": "1ab8d76a",
   "metadata": {
    "execution": {
     "iopub.execute_input": "2023-07-18T14:53:27.356020Z",
     "iopub.status.busy": "2023-07-18T14:53:27.355133Z",
     "iopub.status.idle": "2023-07-18T14:53:27.364305Z",
     "shell.execute_reply": "2023-07-18T14:53:27.363373Z"
    },
    "papermill": {
     "duration": 0.073227,
     "end_time": "2023-07-18T14:53:27.366695",
     "exception": false,
     "start_time": "2023-07-18T14:53:27.293468",
     "status": "completed"
    },
    "tags": []
   },
   "outputs": [],
   "source": [
    "#Seperate the data and labels\n",
    "stress_labels = final_stress_dataset[\"Label\"]\n",
    "stress_X = final_stress_dataset.drop(columns=[\"Label\"])"
   ]
  },
  {
   "cell_type": "code",
   "execution_count": null,
   "id": "ffcebb0b",
   "metadata": {
    "execution": {
     "iopub.execute_input": "2023-07-18T14:53:27.492827Z",
     "iopub.status.busy": "2023-07-18T14:53:27.491414Z",
     "iopub.status.idle": "2023-07-18T14:53:27.501509Z",
     "shell.execute_reply": "2023-07-18T14:53:27.500462Z"
    },
    "papermill": {
     "duration": 0.077458,
     "end_time": "2023-07-18T14:53:27.504111",
     "exception": false,
     "start_time": "2023-07-18T14:53:27.426653",
     "status": "completed"
    },
    "scrolled": true,
    "tags": []
   },
   "outputs": [],
   "source": [
    "stress_labels"
   ]
  },
  {
   "cell_type": "code",
   "execution_count": null,
   "id": "71d3d0ee",
   "metadata": {},
   "outputs": [],
   "source": [
    "stress_X"
   ]
  },
  {
   "cell_type": "markdown",
   "id": "6366ec6d",
   "metadata": {
    "papermill": {
     "duration": 0.061575,
     "end_time": "2023-07-18T14:53:29.161745",
     "exception": false,
     "start_time": "2023-07-18T14:53:29.100170",
     "status": "completed"
    },
    "tags": []
   },
   "source": [
    "# **Anxiety Dataset**"
   ]
  },
  {
   "cell_type": "code",
   "execution_count": null,
   "id": "76615de3",
   "metadata": {
    "execution": {
     "iopub.execute_input": "2023-07-18T14:53:29.288939Z",
     "iopub.status.busy": "2023-07-18T14:53:29.288534Z",
     "iopub.status.idle": "2023-07-18T14:53:29.297369Z",
     "shell.execute_reply": "2023-07-18T14:53:29.296514Z"
    },
    "papermill": {
     "duration": 0.075472,
     "end_time": "2023-07-18T14:53:29.299600",
     "exception": false,
     "start_time": "2023-07-18T14:53:29.224128",
     "status": "completed"
    },
    "tags": []
   },
   "outputs": [],
   "source": [
    "#Seperate the data and labels\n",
    "anxiety_labels = final_anxiety_dataset[\"Label\"]\n",
    "anxiety_X = final_anxiety_dataset.drop(columns=[\"Label\"])"
   ]
  },
  {
   "cell_type": "code",
   "execution_count": null,
   "id": "04df5459",
   "metadata": {
    "execution": {
     "iopub.execute_input": "2023-07-18T14:53:29.426831Z",
     "iopub.status.busy": "2023-07-18T14:53:29.426373Z",
     "iopub.status.idle": "2023-07-18T14:53:29.435625Z",
     "shell.execute_reply": "2023-07-18T14:53:29.434499Z"
    },
    "papermill": {
     "duration": 0.075434,
     "end_time": "2023-07-18T14:53:29.438067",
     "exception": false,
     "start_time": "2023-07-18T14:53:29.362633",
     "status": "completed"
    },
    "tags": []
   },
   "outputs": [],
   "source": [
    "anxiety_labels"
   ]
  },
  {
   "cell_type": "code",
   "execution_count": null,
   "id": "e8ae11d8",
   "metadata": {
    "execution": {
     "iopub.execute_input": "2023-07-18T14:53:29.569267Z",
     "iopub.status.busy": "2023-07-18T14:53:29.568449Z",
     "iopub.status.idle": "2023-07-18T14:53:29.586280Z",
     "shell.execute_reply": "2023-07-18T14:53:29.585284Z"
    },
    "papermill": {
     "duration": 0.086713,
     "end_time": "2023-07-18T14:53:29.588268",
     "exception": false,
     "start_time": "2023-07-18T14:53:29.501555",
     "status": "completed"
    },
    "tags": []
   },
   "outputs": [],
   "source": [
    "anxiety_X"
   ]
  },
  {
   "cell_type": "markdown",
   "id": "b53f7853",
   "metadata": {
    "papermill": {
     "duration": 0.064141,
     "end_time": "2023-07-18T14:53:31.217314",
     "exception": false,
     "start_time": "2023-07-18T14:53:31.153173",
     "status": "completed"
    },
    "tags": []
   },
   "source": [
    "# **Model Training and testing**"
   ]
  },
  {
   "cell_type": "code",
   "execution_count": null,
   "id": "ef64b6eb",
   "metadata": {},
   "outputs": [],
   "source": [
    "from keras.utils import to_categorical\n",
    "from sklearn.metrics import precision_score, recall_score, f1_score\n",
    "\n",
    "def build_cnn_model(input_shape, num_classes):\n",
    "    model = Sequential([\n",
    "        Conv1D(filters=32, kernel_size=3, activation='softplus', input_shape=input_shape),\n",
    "        MaxPooling1D(pool_size=2),\n",
    "        Conv1D(filters=64, kernel_size=3, activation='softplus'),\n",
    "        MaxPooling1D(pool_size=2),\n",
    "        Flatten(),\n",
    "        Dense(128, activation='softplus'),\n",
    "        Dropout(0.5),\n",
    "        Dense(num_classes, activation='softmax')\n",
    "    ])\n",
    "    model.compile(optimizer='adam', loss='categorical_crossentropy', metrics=['accuracy'])\n",
    "    return model\n",
    "\n",
    "def train_and_save_model(X_train, y_train, condition):\n",
    "    model = build_cnn_model(X_train.shape[1:], num_classes=y_train.shape[1])\n",
    "    # Train the model\n",
    "    model.fit(X_train, y_train, epochs=10, batch_size=32, validation_split=0.2)\n",
    "    # Save the model\n",
    "    model.save(f\"{condition}_cnn_model.keras\")\n",
    "    return model\n",
    "\n",
    "def evaluate_cnn_model(X_test, y_test, condition):\n",
    "    model = load_model(f\"{condition}_cnn_model.keras\")\n",
    "    predictions = model.predict(X_test)\n",
    "    predicted_classes = np.argmax(predictions, axis=1)\n",
    "    precision = precision_score(np.argmax(y_test, axis=1), predicted_classes, average='weighted')\n",
    "    recall = recall_score(np.argmax(y_test, axis=1), predicted_classes, average='weighted')\n",
    "    f1 = f1_score(np.argmax(y_test, axis=1), predicted_classes, average='weighted')\n",
    "    return precision, recall, f1\n",
    "\n",
    "# Example usage for CNN model\n",
    "for condition, X, y in [('Stress', stress_X, stress_labels), ('Depression', depression_X, depression_labels), ('Anxiety', anxiety_X, anxiety_labels)]:\n",
    "    print(f\"Training model for {condition}...\")\n",
    "    X_train, X_test, y_train, y_test = train_test_split(X, y, test_size=0.2, random_state=42)\n",
    "    # Reshape input data\n",
    "    X_train_reshaped = np.expand_dims(X_train, axis=-1)\n",
    "    X_test_reshaped = np.expand_dims(X_test, axis=-1)\n",
    "    y_train_categorical = to_categorical(LabelEncoder().fit_transform(y_train))\n",
    "    y_test_categorical = to_categorical(LabelEncoder().fit_transform(y_test))\n",
    "    model = train_and_save_model(X_train_reshaped, y_train_categorical, condition)\n",
    "    test_loss, test_accuracy = model.evaluate(X_test_reshaped, y_test_categorical)\n",
    "    print(f\"Test Accuracy for {condition}: {test_accuracy}\")\n",
    "    precision, recall, f1 = evaluate_cnn_model(X_test_reshaped, y_test_categorical, condition)\n",
    "    print(f\"Precision for {condition}: {precision}\")\n",
    "    print(f\"Recall for {condition}: {recall}\")\n",
    "    print(f\"F1 Score for {condition}: {f1}\")\n"
   ]
  },
  {
   "cell_type": "markdown",
   "id": "414fc2d9",
   "metadata": {},
   "source": [
    "# Prediction"
   ]
  },
  {
   "cell_type": "code",
   "execution_count": null,
   "id": "a2c8d3d9",
   "metadata": {},
   "outputs": [],
   "source": [
    "#\n",
    "#y )\n",
    "def predict_with_model(X_test,condition):\n",
    "    model = load_model(f\"{condition}_cnn_model.keras\")\n",
    "    predictions = model.predict(X_test)\n",
    "    predicted_classes = np.argmax(predictions, axis=1) \n",
    "    # Get class with highest probability\n",
    "    return predicted_classes\n",
    "indices = {\n",
    "    'Depression': [2, 4, 9, 12, 15, 16, 20, 23, 25, 30, 33, 36, 37, 41], \n",
    "    'Anxiety': [1, 3, 6, 8, 14, 18, 19, 22, 24, 27, 29, 35, 39, 40], \n",
    "    'Stress': [0, 5, 7, 10, 11, 13, 17, 21, 26, 28, 31, 32, 34, 38]\n",
    "}\n",
    "\n",
    "test = [1, 2, 3, 2, 2, 1, 2, 1, 3, 3, 3, 1, 3, 1, 2, 3, 1, 1, 2, 1, 3, 1, 2, 1, 2, 3, 3, 2, 1, 1, 1, 1, 1, 1, 1, 1, 3, 3, 3, 2, 2, 2]\n",
    "\n",
    "Depression_test = [test[i] for i in indices['Depression']]\n",
    "Stress_test = [test[i] for i in indices['Stress']]\n",
    "Anxiety_test = [test[i] for i in indices['Anxiety']]\n",
    "\n",
    "classes = [\"Extremely Severe\",\"Severe\",\"Moderate\",\"Mild\",\"Normal\"]\n",
    "\n",
    "\n",
    "\n",
    "X_depression_test = np.array(Depression_test).reshape(1, len(Depression_test), 1)\n",
    "p_d = predict_with_model(X_depression_test, 'Depression')\n",
    "print(p_d)\n",
    "X_stress_test = np.array(Stress_test).reshape(1, len(Stress_test), 1)\n",
    "p_s = predict_with_model(X_stress_test, 'Stress')\n",
    "print(p_s)\n",
    "X_anxiety_test = np.array(Anxiety_test).reshape(1, len(Anxiety_test), 1)\n",
    "p_a = predict_with_model(X_anxiety_test, 'Anxiety')\n",
    "print(p_a)\n",
    "depression_sevirity = [classes[i] for i in p_d]\n",
    "stress_sevirity = [classes[i] for i in p_s]\n",
    "anxiety_sevirity = [classes[i] for i in p_a]\n",
    "\n",
    "print(depression_sevirity)\n",
    "print()\n",
    "print(stress_sevirity)\n",
    "print()\n",
    "print(anxiety_sevirity )"
   ]
  },
  {
   "cell_type": "code",
   "execution_count": null,
   "id": "72cffb2d",
   "metadata": {},
   "outputs": [],
   "source": [
    "print(sum(Depression_test))\n",
    "print(sum(Stress_test))\n",
    "print(sum(Anxiety_test))"
   ]
  },
  {
   "cell_type": "code",
   "execution_count": null,
   "id": "d1e2ddfc",
   "metadata": {},
   "outputs": [],
   "source": [
    "print(Depression_test)\n",
    "print(Stress_test)\n",
    "print(Anxiety_test)"
   ]
  },
  {
   "cell_type": "code",
   "execution_count": null,
   "id": "79157e87",
   "metadata": {},
   "outputs": [],
   "source": []
  },
  {
   "cell_type": "code",
   "execution_count": null,
   "id": "3e002d64",
   "metadata": {},
   "outputs": [],
   "source": []
  },
  {
   "cell_type": "code",
   "execution_count": null,
   "id": "0308121d",
   "metadata": {},
   "outputs": [],
   "source": []
  },
  {
   "cell_type": "code",
   "execution_count": null,
   "id": "536166a5",
   "metadata": {},
   "outputs": [],
   "source": []
  },
  {
   "cell_type": "code",
   "execution_count": null,
   "id": "4756001d",
   "metadata": {},
   "outputs": [],
   "source": []
  },
  {
   "cell_type": "code",
   "execution_count": null,
   "id": "bdca0f92",
   "metadata": {},
   "outputs": [],
   "source": []
  }
 ],
 "metadata": {
  "kernelspec": {
   "display_name": "Python 3 (ipykernel)",
   "language": "python",
   "name": "python3"
  },
  "language_info": {
   "codemirror_mode": {
    "name": "ipython",
    "version": 3
   },
   "file_extension": ".py",
   "mimetype": "text/x-python",
   "name": "python",
   "nbconvert_exporter": "python",
   "pygments_lexer": "ipython3",
   "version": "3.12.3"
  },
  "papermill": {
   "default_parameters": {},
   "duration": 125.124936,
   "end_time": "2023-07-18T14:55:10.154840",
   "environment_variables": {},
   "exception": null,
   "input_path": "__notebook__.ipynb",
   "output_path": "__notebook__.ipynb",
   "parameters": {},
   "start_time": "2023-07-18T14:53:05.029904",
   "version": "2.4.0"
  }
 },
 "nbformat": 4,
 "nbformat_minor": 5
}
